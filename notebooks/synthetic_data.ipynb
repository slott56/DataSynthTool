{
 "cells": [
  {
   "cell_type": "markdown",
   "id": "6c564513-fe30-4f38-982b-1b1ca7f0cb17",
   "metadata": {
    "editable": true,
    "slideshow": {
     "slide_type": "slide"
    },
    "tags": []
   },
   "source": [
    "# Synthetic Data\n",
    "\n",
    "Not focused Generative Adversarial Networks (although that's possible)\n",
    "\n",
    "Focused on Database, ETL, and data analytics\n",
    "\n",
    "Steven Lott"
   ]
  },
  {
   "cell_type": "markdown",
   "id": "892e6cf6-cafb-4d36-a7c8-4013c0995f19",
   "metadata": {
    "editable": true,
    "slideshow": {
     "slide_type": "slide"
    },
    "tags": []
   },
   "source": [
    "## About Me\n",
    "\n",
    "I hold a patent in some synthetic data processing.\n",
    "\n",
    "Not for generative machine learning models. (I need to say that early and often.)"
   ]
  },
  {
   "cell_type": "markdown",
   "id": "95089bf4-2624-4a9d-b129-42580a09585f",
   "metadata": {
    "editable": true,
    "slideshow": {
     "slide_type": "slide"
    },
    "tags": []
   },
   "source": [
    "# Agenda\n",
    "\n",
    "1. What do you mean \"Synthetic\"?  \n",
    "\n",
    "    Isn't that kind of a silly distinction?\n",
    "\n",
    "2. Why bother?\n",
    "\n",
    "3. Some tooling for creating useful synthetic data\n",
    "\n",
    "4. The Cool Stuff"
   ]
  },
  {
   "cell_type": "markdown",
   "id": "a4073f96-a7ac-4a5b-9ccf-0ecb3d7952f7",
   "metadata": {
    "editable": true,
    "slideshow": {
     "slide_type": "slide"
    },
    "tags": []
   },
   "source": [
    "# Part 1. What do you mean Synthetic?\n",
    "\n",
    "- Created.\n",
    "\n",
    "- Not collected.\n",
    "\n",
    "- Free from difficult-to-explain features.\n",
    "\n",
    "- Not necessarily useful for Generative AI Models"
   ]
  },
  {
   "cell_type": "markdown",
   "id": "b6cae84a-5d11-4a8e-a4cd-bc2f607795d4",
   "metadata": {
    "editable": true,
    "slideshow": {
     "slide_type": "slide"
    },
    "tags": []
   },
   "source": [
    "## Test Cases\n",
    "\n",
    "Usually have made-up (synthetic) data."
   ]
  },
  {
   "cell_type": "code",
   "execution_count": 1,
   "id": "199f0ead-daa5-4749-8921-3e1d8af2c8bd",
   "metadata": {
    "editable": true,
    "slideshow": {
     "slide_type": "fragment"
    },
    "tags": []
   },
   "outputs": [],
   "source": [
    "from string import punctuation, whitespace\n",
    "\n",
    "def some_func(x):\n",
    "    \"\"\"\n",
    "    >>> some_func(\"hello world\") = {'d', 'e', 'h', 'l', 'o', 'r', 'w'}\n",
    "    \"\"\"\n",
    "    return set(x) - (set(punctuation) | set(whitespace))"
   ]
  },
  {
   "cell_type": "markdown",
   "id": "fdec8152-7338-4bd0-b628-8d58d9f3179f",
   "metadata": {
    "editable": true,
    "slideshow": {
     "slide_type": ""
    },
    "tags": []
   },
   "source": [
    "We can test by monkeypatching the `set()`, replacing it with a `MagicMock`.\n",
    "\n",
    "And assure that some `sentinel` objects were operated on.\n",
    "\n",
    "Check the call history to look for `__sub__()` and `__or__()` operations."
   ]
  },
  {
   "cell_type": "markdown",
   "id": "4eed96eb-3ea1-4985-b276-535880aab3e3",
   "metadata": {
    "editable": true,
    "slideshow": {
     "slide_type": "slide"
    },
    "tags": []
   },
   "source": [
    "## But... \n",
    "\n",
    "Using Sentinels and Mocks isn't very compelling.\n",
    "\n",
    "It tells us the implementation does specific steps.\n",
    "\n",
    "But does it tell us the implementation will get the right answer?\n",
    "\n",
    "(Hint: Not really.)"
   ]
  },
  {
   "cell_type": "markdown",
   "id": "3cfb382d-0fc4-48c5-ac1a-07837fcef8b5",
   "metadata": {
    "editable": true,
    "slideshow": {
     "slide_type": "slide"
    },
    "tags": []
   },
   "source": [
    "# Part 2. Why Bother?\n",
    "\n",
    "Or\n",
    "\n",
    "How is this even a thing?"
   ]
  },
  {
   "cell_type": "markdown",
   "id": "a199e1b7-efcc-4ebb-a04a-004eac3d5bc7",
   "metadata": {
    "editable": true,
    "slideshow": {
     "slide_type": "slide"
    },
    "tags": []
   },
   "source": [
    "## Question of Scale\n",
    "\n",
    "- A single example is \"artisinal data\"\n",
    "\n",
    "- A bunch of examples is \"data\"\n",
    "\n",
    "How big a \"bunch\" do we need?"
   ]
  },
  {
   "cell_type": "markdown",
   "id": "462efce1-306c-493a-8886-fb250066274d",
   "metadata": {
    "editable": true,
    "slideshow": {
     "slide_type": "slide"
    },
    "tags": []
   },
   "source": [
    "## Boundary Value Analysis\n",
    "\n",
    "6 common cases:\n",
    "\n",
    "Min - 1, Min, Min + 1, \"Nominal Value\", Max - 1, Max, Max + 1\n",
    "\n",
    "Is that enough? One value in range?"
   ]
  },
  {
   "cell_type": "code",
   "execution_count": 2,
   "id": "8ca968dc-8837-4315-af07-1f77c2663a90",
   "metadata": {
    "editable": true,
    "slideshow": {
     "slide_type": "skip"
    },
    "tags": []
   },
   "outputs": [],
   "source": [
    "from math import gamma\n",
    "\n",
    "def factorial(n):\n",
    "    return gamma(n + 1)"
   ]
  },
  {
   "cell_type": "code",
   "execution_count": 3,
   "id": "481cc9fd-ce58-4696-89a3-8aa68de87170",
   "metadata": {
    "editable": true,
    "slideshow": {
     "slide_type": "slide"
    },
    "tags": []
   },
   "outputs": [
    {
     "data": {
      "text/plain": [
       "120.0"
      ]
     },
     "execution_count": 3,
     "metadata": {},
     "output_type": "execute_result"
    }
   ],
   "source": [
    "factorial(5)"
   ]
  },
  {
   "cell_type": "code",
   "execution_count": 4,
   "id": "5c7cae97-0fec-4a22-9d16-0835e165fb15",
   "metadata": {
    "editable": true,
    "slideshow": {
     "slide_type": "fragment"
    },
    "tags": []
   },
   "outputs": [
    {
     "data": {
      "text/plain": [
       "52.34277778455352"
      ]
     },
     "execution_count": 4,
     "metadata": {},
     "output_type": "execute_result"
    }
   ],
   "source": [
    "factorial(4.5)"
   ]
  },
  {
   "cell_type": "code",
   "execution_count": 5,
   "id": "ac88446a-ce52-4e6e-a92e-457d921a52f9",
   "metadata": {
    "editable": true,
    "slideshow": {
     "slide_type": "fragment"
    },
    "tags": []
   },
   "outputs": [
    {
     "data": {
      "text/plain": [
       "3.1415926535897927"
      ]
     },
     "execution_count": 5,
     "metadata": {},
     "output_type": "execute_result"
    }
   ],
   "source": [
    "factorial(-0.5)**2"
   ]
  },
  {
   "cell_type": "markdown",
   "id": "f0dea35c-c6fc-448c-adc3-f794b48f94c3",
   "metadata": {
    "editable": true,
    "slideshow": {
     "slide_type": "slide"
    },
    "tags": []
   },
   "source": [
    "## Unfair!\n",
    "\n",
    "Boundary analysis was clear: -0.5 was out-of-bounds.\n",
    "\n",
    "Testing float values for what appears to be an int function isn't right.\n",
    "\n",
    "- Like lifting your lawn mower to trim your hedge.\n",
    "\n",
    "- Not the point of synthetic data."
   ]
  },
  {
   "cell_type": "markdown",
   "id": "979102d5-32f9-4b1f-8008-d1475decd366",
   "metadata": {
    "editable": true,
    "slideshow": {
     "slide_type": "slide"
    },
    "tags": []
   },
   "source": [
    "## Better Examples\n",
    "\n",
    "Database design.\n",
    "\n",
    "- Does the SQL perform?\n",
    "\n",
    "- Or is a different non-relational model better?\n",
    "\n",
    "Algorithm design.\n",
    "\n",
    "Network design."
   ]
  },
  {
   "cell_type": "markdown",
   "id": "f3e5cdac-361d-49af-8161-401e115e6648",
   "metadata": {
    "editable": true,
    "slideshow": {
     "slide_type": "fragment"
    },
    "tags": []
   },
   "source": [
    "**Does it scale?**"
   ]
  },
  {
   "attachments": {
    "95c83f9b-2571-48e9-9057-aec81aa51551.png": {
     "image/png": "[encoded data removed]"
    }
   },
   "cell_type": "markdown",
   "id": "51c2db1b-14dd-4387-be7f-3623ff85deb1",
   "metadata": {
    "editable": true,
    "slideshow": {
     "slide_type": "slide"
    },
    "tags": []
   },
   "source": [
    "## Consider\n",
    "![data_model.png](attachment:95c83f9b-2571-48e9-9057-aec81aa51551.png)"
   ]
  },
  {
   "cell_type": "markdown",
   "id": "39086142-c86b-4006-bd6e-7c20b2fcaa5c",
   "metadata": {
    "editable": true,
    "slideshow": {
     "slide_type": ""
    },
    "tags": []
   },
   "source": [
    "What locations does a department use?\n",
    "\n",
    "When there are 40,000 employees? 5,000 managers?"
   ]
  },
  {
   "cell_type": "markdown",
   "id": "51381e8a-d7c2-485b-ba30-c40117948039",
   "metadata": {
    "editable": true,
    "slideshow": {
     "slide_type": "slide"
    },
    "tags": []
   },
   "source": [
    "## Common Approach\n",
    "\n",
    "- Mock up a few Departments with a few Locations.\n",
    "\n",
    "- Use **Boundary Value Analysis** to handle optional, missing, and special-case relationsips.\n",
    "\n",
    "- One -- maybe two -- of each.\n",
    "\n",
    "- Lovingly hand-crafted `INSERT` statements."
   ]
  },
  {
   "cell_type": "markdown",
   "id": "31a183cb-52a8-475e-af7c-08e1ce9a2bd3",
   "metadata": {
    "editable": true,
    "slideshow": {
     "slide_type": "slide"
    },
    "tags": []
   },
   "source": [
    "## Better Approach\n",
    "\n",
    "1. Define the schema in considerable, realistic detail.\n",
    "\n",
    "2. Build representative data in representative volumes.\n",
    "\n",
    "3. Load a database. Populate optimizer statistics.\n",
    "\n",
    "4. Run the queries.\n",
    "\n",
    "5. Refine the schema when it performs poorly.\n",
    "\n",
    "6. Define transactions and updates to examine statistics processing."
   ]
  },
  {
   "cell_type": "markdown",
   "id": "404e454a-b145-4e11-9200-8411b284377a",
   "metadata": {
    "editable": true,
    "slideshow": {
     "slide_type": "slide"
    },
    "tags": []
   },
   "source": [
    "## Impediments\n",
    "\n",
    "- SQL Schema is a flaming dumpster fire.\n",
    "\n",
    "- Even JSON schema lacks details.\n",
    "\n",
    "- Distributions and Histograms are **required**.\n",
    "\n",
    "    - For new development, guess wisely.\n",
    "    - You'll guess wrong: plan for change."
   ]
  },
  {
   "cell_type": "markdown",
   "id": "14a69ddb-f900-4f2f-8c5b-1b425d83ea38",
   "metadata": {
    "editable": true,
    "slideshow": {
     "slide_type": "slide"
    },
    "tags": []
   },
   "source": [
    "# Part 3. Some tooling for creating useful synthetic data\n",
    "\n",
    "- Schema Definition\n",
    "\n",
    "- Data Generation"
   ]
  },
  {
   "cell_type": "markdown",
   "id": "312a7c95-046d-42b3-b706-a26a3551f76b",
   "metadata": {
    "editable": true,
    "slideshow": {
     "slide_type": "slide"
    },
    "tags": []
   },
   "source": [
    "## Schema Definition\n",
    "\n",
    "- Define schema with JSONSchema + Extensions.\n",
    "\n",
    "- Use JSONSchema to synthesize data.\n",
    "\n",
    "- If you're using a SQL database, map JSONSchema to SQL.\n",
    "\n",
    "It's fun to use **Pydantic** to generate JSONSchema."
   ]
  },
  {
   "cell_type": "markdown",
   "id": "b3b0bac1-a1b3-4081-a2e1-30295ef97051",
   "metadata": {
    "editable": true,
    "slideshow": {
     "slide_type": "slide"
    },
    "tags": []
   },
   "source": [
    "### Starting Point -- Design\n",
    "\n",
    "PlantUML to sketch the data model.\n",
    "\n",
    "Draws diagrams.\n",
    "\n",
    "```plantuml\n",
    "@startuml\n",
    "class Employee {\n",
    "    id: int\n",
    "    {field} name: string(40)\n",
    "    hire_date: timestamp\n",
    "    velocity: float\n",
    "    manager_id: int\n",
    "}\n",
    "@enduml\n",
    "```"
   ]
  },
  {
   "cell_type": "markdown",
   "id": "dcc80422-81d2-4377-91b9-ebc8da91d8b7",
   "metadata": {
    "editable": true,
    "slideshow": {
     "slide_type": "slide"
    },
    "tags": []
   },
   "source": [
    "### Refine to Pydantic Model"
   ]
  },
  {
   "cell_type": "code",
   "execution_count": 6,
   "id": "0c59d6c8-f4aa-4e56-a716-96ecc61198cc",
   "metadata": {
    "editable": true,
    "slideshow": {
     "slide_type": ""
    },
    "tags": []
   },
   "outputs": [],
   "source": [
    "import datetime\n",
    "from typing import Annotated\n",
    "from pydantic import BaseModel, Field\n",
    "\n",
    "class Employee(BaseModel):\n",
    "    id: int\n",
    "    name: Annotated[\n",
    "        str, Field(max_length=40)]\n",
    "    hire_date: Annotated[\n",
    "        datetime.datetime, Field(ge=datetime.datetime(2021, 1, 18))]\n",
    "    velocity: Annotated[\n",
    "        float, Field(ge=2, le=21, \n",
    "                     json_schema_extra={\"distribution\": \"Normal\"})]\n",
    "    manager: Annotated[\n",
    "        int, Field(json_schema_extra={\"sql\": {'foreignKey': 'Manager.id'}})]"
   ]
  },
  {
   "cell_type": "markdown",
   "id": "c9f3cff2-3c04-4f65-bc0f-98c0f1c16d3e",
   "metadata": {
    "editable": true,
    "slideshow": {
     "slide_type": "slide"
    },
    "tags": []
   },
   "source": [
    "### Create JSONSchema from class definition"
   ]
  },
  {
   "cell_type": "code",
   "execution_count": 7,
   "id": "54ff1e32-5475-4896-82e4-f65a0d96065c",
   "metadata": {
    "editable": true,
    "slideshow": {
     "slide_type": ""
    },
    "tags": []
   },
   "outputs": [
    {
     "name": "stdout",
     "output_type": "stream",
     "text": [
      "{'properties': {'hire_date': {'format': 'date-time',\n",
      "                              'title': 'Hire Date',\n",
      "                              'type': 'string'},\n",
      "                'id': {'title': 'Id', 'type': 'integer'},\n",
      "                'manager': {'sql': {'foreignKey': 'Manager.id'},\n",
      "                            'title': 'Manager',\n",
      "                            'type': 'integer'},\n",
      "                'name': {'maxLength': 40, 'title': 'Name', 'type': 'string'},\n",
      "                'velocity': {'distribution': 'Normal',\n",
      "                             'maximum': 21.0,\n",
      "                             'minimum': 2.0,\n",
      "                             'title': 'Velocity',\n",
      "                             'type': 'number'}},\n",
      " 'required': ['id', 'name', 'hire_date', 'velocity', 'manager'],\n",
      " 'title': 'Employee',\n",
      " 'type': 'object'}\n"
     ]
    }
   ],
   "source": [
    "from pprint import pprint\n",
    "pprint(Employee.model_json_schema())"
   ]
  },
  {
   "cell_type": "markdown",
   "id": "c07b1917-6b60-4126-a32a-378ef5b353b8",
   "metadata": {
    "editable": true,
    "slideshow": {
     "slide_type": "slide"
    },
    "tags": []
   },
   "source": [
    "## Data Generation\n",
    "\n",
    "An initial proof-of-concept design that works.\n",
    "\n",
    "But has limitations."
   ]
  },
  {
   "cell_type": "code",
   "execution_count": 8,
   "id": "d441b86d-5113-4d47-b020-66e4b12736ba",
   "metadata": {
    "editable": true,
    "slideshow": {
     "slide_type": "skip"
    },
    "tags": []
   },
   "outputs": [],
   "source": [
    "def get_meta(cls_, getter, field):\n",
    "    matches = [m for m in field.metadata if isinstance(m, cls_)]\n",
    "    if len(matches) == 0:\n",
    "        return None\n",
    "    elif len(matches) != 1:\n",
    "        raise ValueError(f\"{matches}\")\n",
    "    else:\n",
    "        return getter(matches[0])"
   ]
  },
  {
   "cell_type": "markdown",
   "id": "85b35df3-8608-4a27-99b2-cd45a0361d94",
   "metadata": {
    "editable": true,
    "slideshow": {
     "slide_type": "slide"
    },
    "tags": []
   },
   "source": [
    "### Build Field Values"
   ]
  },
  {
   "cell_type": "code",
   "execution_count": 9,
   "id": "12d7701a-28b3-4f53-8497-4c0a149b71b7",
   "metadata": {
    "editable": true,
    "slideshow": {
     "slide_type": ""
    },
    "tags": []
   },
   "outputs": [],
   "source": [
    "from typing import Any\n",
    "from pydantic.fields import FieldInfo\n",
    "from annotated_types import MaxLen, Ge, Le\n",
    "from operator import attrgetter\n",
    "\n",
    "def field_generate(field: FieldInfo) -> Any:\n",
    "    if issubclass(field.annotation, str):\n",
    "        size = get_meta(MaxLen, attrgetter(\"max_length\"), field)\n",
    "        print(\"String\", size, field.metadata, field.json_schema_extra)\n",
    "        return \"String\"\n",
    "    elif issubclass(field.annotation, int):\n",
    "        min_value = get_meta(Ge, attrgetter(\"ge\"), field)\n",
    "        max_value = get_meta(Le, attrgetter(\"le\"), field)\n",
    "        print(\"Integer\", min_value, max_value, field.metadata, field.json_schema_extra)\n",
    "        return min_value if min_value is not None else 0 \n",
    "    elif issubclass(field.annotation, datetime.datetime):\n",
    "        default = datetime.datetime(1970, 1, 1)\n",
    "        min_value = get_meta(Ge, attrgetter(\"ge\"), field)\n",
    "        print(\"Date\", min_value, field.metadata, field.json_schema_extra)\n",
    "        return min_value or default\n",
    "    elif issubclass(field.annotation, float):\n",
    "        min_value = get_meta(Ge, attrgetter(\"ge\"), field)\n",
    "        max_value = get_meta(Le, attrgetter(\"le\"), field)\n",
    "        print(\"Float\", min_value, max_value, field.metadata, field.json_schema_extra)\n",
    "        return min_value if min_value is not None else 0.0\n",
    "    else:\n",
    "        raise ValueError(f\"unsupported {field.annotation=} {field.metadata=} {field.json_schema_extra=}\")"
   ]
  },
  {
   "cell_type": "markdown",
   "id": "82c13f0a-71bf-47de-9e7f-d46001224fe6",
   "metadata": {
    "editable": true,
    "slideshow": {
     "slide_type": "slide"
    },
    "tags": []
   },
   "source": [
    "This design isn't particularly good.\n",
    "\n",
    "But. \n",
    "\n",
    "It gets you started immediately."
   ]
  },
  {
   "cell_type": "markdown",
   "id": "812c2ddc-1c94-49e8-ab8a-ab20efd34c27",
   "metadata": {
    "editable": true,
    "slideshow": {
     "slide_type": "slide"
    },
    "tags": []
   },
   "source": [
    "### Build Objects"
   ]
  },
  {
   "cell_type": "code",
   "execution_count": 10,
   "id": "11b7aacf-ba22-4d47-8dd4-0833de52bcd1",
   "metadata": {
    "editable": true,
    "slideshow": {
     "slide_type": ""
    },
    "tags": []
   },
   "outputs": [],
   "source": [
    "def row_generate(cls_: type[BaseModel]) -> BaseModel:\n",
    "    data = {\n",
    "        name: field_generate(field)\n",
    "        for name, field in cls_.model_fields.items()\n",
    "    }\n",
    "    # Derived values (2NF and 3NF violations.)\n",
    "    return cls_(**data)"
   ]
  },
  {
   "cell_type": "code",
   "execution_count": 11,
   "id": "d7cdf38f-a70b-47b2-8a76-3283c5fe7cd2",
   "metadata": {
    "editable": true,
    "slideshow": {
     "slide_type": ""
    },
    "tags": []
   },
   "outputs": [
    {
     "name": "stdout",
     "output_type": "stream",
     "text": [
      "Integer None None [] None\n",
      "String 40 [MaxLen(max_length=40)] None\n",
      "Date 2021-01-18 00:00:00 [Ge(ge=datetime.datetime(2021, 1, 18, 0, 0))] None\n",
      "Float 2 21 [Ge(ge=2), Le(le=21)] {'distribution': 'Normal'}\n",
      "Integer None None [] {'sql': {'foreignKey': 'Manager.id'}}\n"
     ]
    },
    {
     "data": {
      "text/plain": [
       "Employee(id=0, name='String', hire_date=datetime.datetime(2021, 1, 18, 0, 0), velocity=2.0, manager=0)"
      ]
     },
     "execution_count": 11,
     "metadata": {},
     "output_type": "execute_result"
    }
   ],
   "source": [
    "row_generate(Employee)"
   ]
  },
  {
   "cell_type": "markdown",
   "id": "565cf376-d3d4-41a5-96b7-1ba89b3b442f",
   "metadata": {
    "editable": true,
    "slideshow": {
     "slide_type": "slide"
    },
    "tags": []
   },
   "source": [
    "### Serialize as needed\n",
    "\n",
    "While SQL-like databases are common...\n",
    "\n",
    "No-SQL databases and non-database processing is more common.\n",
    "\n",
    "In some cases, you need to make persistent data.\n",
    "\n",
    "- CSV\n",
    "- Newline Delimited JSON\n",
    "- SQL INSERT script"
   ]
  },
  {
   "cell_type": "markdown",
   "id": "6edadad8-05b1-46bd-a01b-cd39d7168327",
   "metadata": {
    "editable": true,
    "slideshow": {
     "slide_type": "slide"
    },
    "tags": []
   },
   "source": [
    "## Make SQL Table Definitions (if you must)"
   ]
  },
  {
   "cell_type": "code",
   "execution_count": 12,
   "id": "40f12b0a-5c50-4188-a5b1-c842f91125d8",
   "metadata": {
    "editable": true,
    "slideshow": {
     "slide_type": ""
    },
    "tags": []
   },
   "outputs": [],
   "source": [
    "def SQLSchema(some_class):\n",
    "    js = some_class.model_json_schema()\n",
    "    print(f\"CREATE IF NOT EXISTS TABLE {js['title']} (\")\n",
    "    for name, p in js['properties'].items():\n",
    "        print(f\"  {name} {p['type'].upper()},\")\n",
    "    print(\")\")"
   ]
  },
  {
   "cell_type": "code",
   "execution_count": 13,
   "id": "cbd0399a-3169-4a12-8a37-a0b07d582562",
   "metadata": {
    "editable": true,
    "slideshow": {
     "slide_type": ""
    },
    "tags": []
   },
   "outputs": [
    {
     "ename": "NameError",
     "evalue": "name 'Manager' is not defined",
     "output_type": "error",
     "traceback": [
      "\u001b[0;31m---------------------------------------------------------------------------\u001b[0m",
      "\u001b[0;31mNameError\u001b[0m                                 Traceback (most recent call last)",
      "Cell \u001b[0;32mIn[13], line 1\u001b[0m\n\u001b[0;32m----> 1\u001b[0m SQLSchema(Manager)\n",
      "\u001b[0;31mNameError\u001b[0m: name 'Manager' is not defined"
     ]
    }
   ],
   "source": [
    "SQLSchema(Manager)"
   ]
  },
  {
   "cell_type": "markdown",
   "id": "4e7cbcef-c805-457b-ad16-cd0494994ec7",
   "metadata": {
    "editable": true,
    "slideshow": {
     "slide_type": "slide"
    },
    "tags": []
   },
   "source": [
    "# Part 4. The Cool Stuff\n",
    "\n",
    "Fine-Tuning Data Domains\n",
    "\n",
    "- String sizes and patterns\n",
    "- Numbers with distributions\n",
    "- Dates and DateTimes\n",
    "- Enumerated values with histograms\n",
    "- Benford's Law\n",
    "- Foreign Keys\n",
    "- Optional Values\n",
    "\n",
    "Plan on revising and extending these constantly."
   ]
  },
  {
   "cell_type": "markdown",
   "id": "08958a42-94c2-46f4-b059-dfdb1704646e",
   "metadata": {
    "editable": true,
    "slideshow": {
     "slide_type": "slide"
    },
    "tags": []
   },
   "source": [
    "## Strings\n",
    "\n",
    "- `minLegth` and `maxLength`\n",
    "- `pattern` a regular expression\n",
    "- `format` a set of data domains like \"date\", \"time\", \"date-time\", \"duration\", \"email\", etc.\n",
    "\n",
    "Outside the pattern and format, supplemental details are needed\n",
    "\n",
    "- length distribution\n",
    "- \"subdomain\" of string: text, name, address, part number, zip code, etc.\n",
    "\n",
    "You'll often have to invent -- and re-invent -- these"
   ]
  },
  {
   "cell_type": "markdown",
   "id": "fc18fa47-8e9a-4c97-a8d1-2bd86b9e7c72",
   "metadata": {
    "editable": true,
    "slideshow": {
     "slide_type": "slide"
    },
    "tags": []
   },
   "source": [
    "## Numbers (int, float, currency, durations)\n",
    "\n",
    "- Needs min, max, distribution.\n",
    "\n",
    "Some distributions directly supported by `random`: uniform, triangular, exponential, normal, etc.\n",
    "\n",
    "Benford is not directly available."
   ]
  },
  {
   "cell_type": "markdown",
   "id": "a7e65187-aa49-4c3d-84c1-a4dd3c24b599",
   "metadata": {
    "editable": true,
    "slideshow": {
     "slide_type": "slide"
    },
    "tags": []
   },
   "source": [
    "## Dates\n",
    "\n",
    "- Needs min, max, distribution.\n",
    "\n",
    "- Convert min and max to ordinal dates or timestamps.\n",
    "\n",
    "Use ordinary numeric generator functions you already wrote.\n",
    "\n",
    "Use `fromordinal()` or `fromtimestamp()` to create a valid datetime object."
   ]
  },
  {
   "cell_type": "markdown",
   "id": "7442c2f0-719c-4d1b-b690-2a18c0c5f1d1",
   "metadata": {
    "editable": true,
    "slideshow": {
     "slide_type": "slide"
    },
    "tags": []
   },
   "source": [
    "## Enumerated Values\n",
    "\n",
    "- Codes and status values and what-not\n",
    "- Very narrow domains\n",
    "- Very lumpy distributions\n",
    "\n",
    "Use `random.choices()` with relative weights."
   ]
  },
  {
   "cell_type": "markdown",
   "id": "0678f3bb-f3b0-4c35-90be-1ccb4e66d42d",
   "metadata": {
    "editable": true,
    "slideshow": {
     "slide_type": "slide"
    },
    "tags": []
   },
   "source": [
    "## Benford's Law\n",
    "\n",
    "- Leading digit of measured values are not always uniformly distributed.\n",
    "\n",
    "    Bank balance amounts, for example.\n",
    "\n",
    "Tricky\n",
    "\n",
    "Use ordinary numeric generator functions you already wrote.\n",
    "\n",
    "Replace the 1st digit following Benford's Law via `random.choices()`.\n",
    "\n",
    "Iterate if it's no longer in the valid range. "
   ]
  },
  {
   "cell_type": "markdown",
   "id": "0994f0d2-5876-4c8f-8430-4fa427bc72d7",
   "metadata": {
    "editable": true,
    "slideshow": {
     "slide_type": "slide"
    },
    "tags": []
   },
   "source": [
    "## Foreign Keys\n",
    "\n",
    "Needs \"cardinality\" factor.\n",
    "-  Define table row counts: Employee has 10,000, Managers has 2,000\n",
    "-  Gives 1:m where mean(m) = 5.\n",
    "\n",
    "Generate primary key domains for all tables in the schema.\n",
    "\n",
    "Shuffle domain into a random order to build PK's.\n",
    "\n",
    "Selecting from domain for FK's."
   ]
  },
  {
   "cell_type": "markdown",
   "id": "eed8d22d-ac8a-43e0-823b-9db9362d629e",
   "metadata": {
    "editable": true,
    "slideshow": {
     "slide_type": "slide"
    },
    "tags": []
   },
   "source": [
    "## Optional Values\n",
    "\n",
    "Needs \"optionality\" factor.\n",
    "\n",
    "This is probability of None.\n",
    "\n",
    "Sometimes too simplistic: consider \"Domain-specific nulls\"\n",
    "\n",
    "- A special value that is semantically a null, \n",
    "\n",
    "- not literally None or NULL or whatever.\n",
    "\n",
    "- Social Security Number 999-99-9999. "
   ]
  },
  {
   "cell_type": "markdown",
   "id": "624f9481-be49-4d0b-9f99-08963173bf5c",
   "metadata": {
    "editable": true,
    "slideshow": {
     "slide_type": "slide"
    },
    "tags": []
   },
   "source": [
    "## There's Still More\n",
    "\n",
    "Code often imposes **Yet More Constraints**.\n",
    "\n",
    "- Unions (also known as Subentities) \n",
    "    - A discriminator\n",
    "    - Optional fields depending on discriminator value\n",
    "\n",
    "- Relationships among fields (A = B + C)\n",
    "\n",
    "- 2NF optimizations\n",
    "    - One field has a Foreign Key\n",
    "    - Another field non-key values from the foreign table"
   ]
  },
  {
   "cell_type": "markdown",
   "id": "f5c2bdf8-0ac5-4494-ba17-056538bf5499",
   "metadata": {
    "editable": true,
    "slideshow": {
     "slide_type": ""
    },
    "tags": []
   },
   "source": [
    "# Conclusion\n",
    "\n",
    "- One size of data synth will not solve very many problems.\n",
    "\n",
    "- Each design problem will add yet more interesting complications and relationships.\n",
    "\n",
    "- Plan to validate synth data against actual data.\n",
    "\n",
    "  - And revise designs as reality intevenes.\n",
    "  - And revise again with each lesson learned.\n",
    "\n",
    "- Plan for ongoing synth to handle usage changes and new features."
   ]
  }
 ],
 "metadata": {
  "kernelspec": {
   "display_name": "Python 3 (ipykernel)",
   "language": "python",
   "name": "python3"
  },
  "language_info": {
   "codemirror_mode": {
    "name": "ipython",
    "version": 3
   },
   "file_extension": ".py",
   "mimetype": "text/x-python",
   "name": "python",
   "nbconvert_exporter": "python",
   "pygments_lexer": "ipython3",
   "version": "3.12.2"
  },
  "toc": {
   "base_numbering": 4
  }
 },
 "nbformat": 4,
 "nbformat_minor": 5
}
