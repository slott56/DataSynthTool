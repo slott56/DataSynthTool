{
 "cells": [
  {
   "cell_type": "markdown",
   "id": "1bf85aed-4909-4b1c-b693-1c01dabe71da",
   "metadata": {
    "editable": true,
    "slideshow": {
     "slide_type": ""
    },
    "tags": []
   },
   "source": [
    "# Synthetic Data Part II\n",
    "\n",
    "Clean way to handle production of high-volume data.\n",
    "\n",
    "Also.\n",
    "\n",
    "Clean way to handle Primary/Foriegn Key relationships."
   ]
  },
  {
   "cell_type": "markdown",
   "id": "58ecf221-833c-4618-9808-41211f3a338d",
   "metadata": {
    "editable": true,
    "slideshow": {
     "slide_type": ""
    },
    "tags": []
   },
   "source": [
    "# Architecture\n",
    "\n",
    "Three parts:\n",
    "\n",
    "- Pydantic is expected to provide the essential class definitions.\n",
    "\n",
    "- Field-level Synthesizers to emit atomic data.\n",
    "\n",
    "- Model and Schema-level collections."
   ]
  },
  {
   "cell_type": "markdown",
   "id": "ca7474eb-fd5a-49f1-9481-42813bf7f962",
   "metadata": {
    "editable": true,
    "slideshow": {
     "slide_type": ""
    },
    "tags": []
   },
   "source": [
    "# Sample Pydantic Class Definitions\n",
    "\n",
    "These two classes (with circular references) will be our working example."
   ]
  },
  {
   "cell_type": "code",
   "execution_count": 1,
   "id": "be97dbca-6778-41eb-aeea-dbe930b5c9fd",
   "metadata": {
    "editable": true,
    "slideshow": {
     "slide_type": ""
    },
    "tags": []
   },
   "outputs": [],
   "source": [
    "import datetime\n",
    "from typing import Annotated\n",
    "from pydantic import BaseModel, Field\n",
    "\n",
    "class Employee(BaseModel):\n",
    "    id: Annotated[\n",
    "        int, Field(json_schema_extra={\"sql\": {'key': 'primary'}}) \n",
    "    ]\n",
    "    name: Annotated[\n",
    "        str, Field(max_length=40)\n",
    "    ]\n",
    "    hire_date: Annotated[\n",
    "        datetime.datetime, Field(ge=datetime.datetime(2021, 1, 18))\n",
    "    ]\n",
    "    velocity: Annotated[\n",
    "        float, Field(ge=2, le=21, \n",
    "                     json_schema_extra={\"distribution\": \"normal\"})\n",
    "    ]\n",
    "    manager: Annotated[\n",
    "        int, Field(json_schema_extra={\"sql\": {'key': 'foreign', 'reference': 'Manager.id'}})\n",
    "    ]\n",
    "\n",
    "\n",
    "class Manager(BaseModel):\n",
    "    id: Annotated[\n",
    "        int, Field(json_schema_extra={\"sql\": {'key': 'primary'}}) \n",
    "    ]\n",
    "    employee_id: Annotated[\n",
    "        int, Field(json_schema_extra={\"sql\": {'key': 'foreign', 'reference': 'Employee.id'}})\n",
    "    ]\n",
    "    department_id: Annotated[\n",
    "        str, Field(max_length=8)\n",
    "    ]"
   ]
  },
  {
   "cell_type": "markdown",
   "id": "3857e9f1-0917-4133-8ef4-99b8e7971491",
   "metadata": {
    "editable": true,
    "slideshow": {
     "slide_type": ""
    },
    "tags": []
   },
   "source": [
    "# Field-level Data Synthesizer\n",
    "\n",
    "Two aspects of each synthesizer.\n",
    "\n",
    "-  The essential synth algorithms for various data types\n",
    "\n",
    "-  Behavior of the synth process:\n",
    "\n",
    "    - Independent generation -- duplicates are possible.\n",
    "    - Pooled generation -- duplicates will be prevented.\n",
    "\n",
    "Plus, in order to handle foreign key references. A reference synthesizer that extracts values from a pooled synthesizer."
   ]
  },
  {
   "cell_type": "code",
   "execution_count": 2,
   "id": "917ef1b9-18c6-45d7-92bf-eb64d78e8e9c",
   "metadata": {
    "editable": true,
    "slideshow": {
     "slide_type": ""
    },
    "tags": []
   },
   "outputs": [],
   "source": [
    "import abc\n",
    "from annotated_types import MaxLen, MinLen, Ge, Le\n",
    "from operator import attrgetter\n",
    "import random\n",
    "from typing import Any, Iterator\n",
    "\n",
    "from pydantic.fields import FieldInfo\n",
    "\n",
    "class Behavior:\n",
    "    def __init__(self, synth: \"Synthesizer\") -> None:\n",
    "        self.synth = synth\n",
    "\n",
    "    def __repr__(self) -> str:\n",
    "        return self.__class__.__name__\n",
    "        \n",
    "    @abc.abstractmethod\n",
    "    def iterator(self) -> Iterator[Any]:\n",
    "        ...        \n",
    "\n",
    "    @abc.abstractmethod\n",
    "    def next(self) -> Any:\n",
    "        ...\n",
    "\n",
    "class Independent(Behavior):\n",
    "    def __init__(self, synth: \"Synthesizer\") -> None:\n",
    "        super().__init__(synth)\n",
    "        self.count = 0\n",
    "    def iterator(self) -> Iterator[Any]:\n",
    "        return self.synth\n",
    "    def next(self) -> Any:\n",
    "        v = self.synth(self.count)\n",
    "        self.count += 1\n",
    "        return v\n",
    "\n",
    "class Pooled(Behavior):\n",
    "    def __init__(self, synth: \"Synthesizer\") -> None:\n",
    "        super().__init__(synth)\n",
    "        assert self.synth.model.rows is not None, f\"no target rows for {self.synth.model}\"\n",
    "        self.fill()\n",
    "\n",
    "    def fill(self) -> None:\n",
    "        # Often, these are enough\n",
    "        self.pool = set(\n",
    "            self.synth(x)\n",
    "            for x in range(self.synth.model.rows)\n",
    "        )\n",
    "        # May need a few more\n",
    "        count = self.synth.model.rows\n",
    "        while len(self.pool) != self.synth.model.rows:\n",
    "            self.pool.add(self.synth(count))\n",
    "            count += 1\n",
    "        self.pool = list(self.pool)\n",
    "        random.shuffle(self.pool)\n",
    "\n",
    "    def iterator(self) -> Iterator[Any]:\n",
    "        return iter(self.pool)\n",
    "        \n",
    "    def next(self) -> Any:\n",
    "        return random.choice(self.pool)"
   ]
  },
  {
   "cell_type": "code",
   "execution_count": 3,
   "id": "b39d979a-9ea8-42b5-9657-a0399f0c279d",
   "metadata": {
    "editable": true,
    "slideshow": {
     "slide_type": ""
    },
    "tags": []
   },
   "outputs": [],
   "source": [
    "class Synthesizer:\n",
    "    model_ref = \"\"\n",
    "    field_ref = \"\"\n",
    "    \n",
    "    def __init__(\n",
    "        self, \n",
    "        model: \"ModelSynthesizer\", \n",
    "        field: FieldInfo, \n",
    "        behavior: type[Behavior] = Independent\n",
    "    ) -> None:\n",
    "        self.model = model\n",
    "        self.field = field\n",
    "        self.json_schema_extra = self.field.json_schema_extra or {}\n",
    "        self.prepare()\n",
    "        self.behavior = behavior(self)\n",
    "\n",
    "    def __repr__(self) -> str:\n",
    "        return f\"{self.__class__.__name__}({self.model}, {self.field}, {self.behavior})\"\n",
    "\n",
    "    def __iter__(self) -> Iterator[Any]:\n",
    "        return self.behavior.iterator()\n",
    "\n",
    "    def __next__(self) -> Any:\n",
    "        return self.behavior.next()\n",
    "\n",
    "    @abc.abstractmethod\n",
    "    def prepare(self) -> None:\n",
    "        \"\"\"Parse the field.\"\"\"\n",
    "        ...\n",
    "        \n",
    "    @abc.abstractmethod\n",
    "    def __call__(self, sequence: int | None = None) -> Any:\n",
    "        \"\"\"Generate a value.\"\"\"\n",
    "        ...\n",
    "\n",
    "    def get_meta(self, cls_, getter):\n",
    "        matches = [m for m in self.field.metadata if isinstance(m, cls_)]\n",
    "        if len(matches) == 0:\n",
    "            return None\n",
    "        elif len(matches) != 1:\n",
    "            raise ValueError(f\"{matches}\")\n",
    "        else:\n",
    "            return getter(matches[0])\n",
    "\n",
    "    @classmethod\n",
    "    def match(cls, field: FieldInfo) -> bool:\n",
    "        # return issubclass(field.annotation, int)\n",
    "        return False"
   ]
  },
  {
   "cell_type": "markdown",
   "id": "bfbe0cc5-528b-4e5d-b3e7-6ebc4018b0a7",
   "metadata": {
    "editable": true,
    "slideshow": {
     "slide_type": ""
    },
    "tags": []
   },
   "source": [
    "## The Model Synthesizer Protocol"
   ]
  },
  {
   "cell_type": "code",
   "execution_count": 4,
   "id": "aec3ba04-c45e-4514-bae0-8261a363d797",
   "metadata": {
    "editable": true,
    "slideshow": {
     "slide_type": ""
    },
    "tags": []
   },
   "outputs": [],
   "source": [
    "from dataclasses import dataclass\n",
    "\n",
    "@dataclass\n",
    "class MockModelSynthesizer:\n",
    "    rows: int\n",
    "\n",
    "model = MockModelSynthesizer(12)"
   ]
  },
  {
   "cell_type": "markdown",
   "id": "246aa001-3b82-42de-86c6-e71e45f10e86",
   "metadata": {
    "editable": true,
    "slideshow": {
     "slide_type": ""
    },
    "tags": []
   },
   "source": [
    "## String Synthesizer"
   ]
  },
  {
   "cell_type": "code",
   "execution_count": 5,
   "id": "1c8628f7-7bfd-430c-974e-a9c80b81bf60",
   "metadata": {
    "editable": true,
    "slideshow": {
     "slide_type": ""
    },
    "tags": []
   },
   "outputs": [],
   "source": [
    "import string\n",
    "\n",
    "class SynthesizeString(Synthesizer):\n",
    "    domain = string.ascii_letters + string.punctuation\n",
    "    min_default = 1\n",
    "    \n",
    "    def prepare(self) -> None:\n",
    "        self.min_length = self.get_meta(MinLen, attrgetter(\"min_length\"))\n",
    "        self.max_length = self.get_meta(MaxLen, attrgetter(\"max_length\"))\n",
    "        if self.min_length is None:\n",
    "            self.min_length = self.min_default\n",
    "        if self.max_length is None:\n",
    "            self.max_length = 32\n",
    "            \n",
    "    def __call__(self, sequence: int | None = None) -> Any:\n",
    "        size = random.randint(self.min_length, self.max_length)\n",
    "        return \"\".join([\n",
    "            random.choice(self.domain)\n",
    "            for _ in range(size)\n",
    "        ])\n",
    "        \n",
    "    @classmethod\n",
    "    def match(cls, field: FieldInfo) -> bool:\n",
    "        return issubclass(field.annotation, str)\n"
   ]
  },
  {
   "cell_type": "code",
   "execution_count": 6,
   "id": "aa853340-c9b9-492e-bd4d-3481298583d4",
   "metadata": {
    "editable": true,
    "slideshow": {
     "slide_type": ""
    },
    "tags": []
   },
   "outputs": [],
   "source": [
    "g = SynthesizeString(None, Employee.model_fields['name'])"
   ]
  },
  {
   "cell_type": "code",
   "execution_count": 7,
   "id": "40d39c23-cea0-4752-99ad-0a6c243b8b91",
   "metadata": {
    "editable": true,
    "slideshow": {
     "slide_type": ""
    },
    "tags": []
   },
   "outputs": [
    {
     "data": {
      "text/plain": [
       "'ZJu,ZWy'"
      ]
     },
     "execution_count": 7,
     "metadata": {},
     "output_type": "execute_result"
    }
   ],
   "source": [
    "g()"
   ]
  },
  {
   "cell_type": "code",
   "execution_count": 8,
   "id": "5046aa34-be10-40c1-9aca-b4271dcb4ba2",
   "metadata": {
    "editable": true,
    "slideshow": {
     "slide_type": ""
    },
    "tags": []
   },
   "outputs": [
    {
     "data": {
      "text/plain": [
       "'t%jRJCwdngrbqSn\\'?&l+WJ!&H$dd\"&h<'"
      ]
     },
     "execution_count": 8,
     "metadata": {},
     "output_type": "execute_result"
    }
   ],
   "source": [
    "ig = SynthesizeString(model, Employee.model_fields['name'], behavior=Independent)\n",
    "next(iter(ig))"
   ]
  },
  {
   "cell_type": "code",
   "execution_count": 9,
   "id": "cc6a9c8e-2b2b-46b4-a148-85f4d01421e7",
   "metadata": {
    "editable": true,
    "slideshow": {
     "slide_type": ""
    },
    "tags": []
   },
   "outputs": [
    {
     "data": {
      "text/plain": [
       "\"<r{'\""
      ]
     },
     "execution_count": 9,
     "metadata": {},
     "output_type": "execute_result"
    }
   ],
   "source": [
    "pg = SynthesizeString(model, Employee.model_fields['name'], behavior=Pooled)\n",
    "next(iter(pg))"
   ]
  },
  {
   "cell_type": "code",
   "execution_count": 10,
   "id": "5d963528-e384-497f-86a9-be96d9616109",
   "metadata": {
    "editable": true,
    "slideshow": {
     "slide_type": ""
    },
    "tags": []
   },
   "outputs": [
    {
     "data": {
      "text/plain": [
       "\"<r{'\""
      ]
     },
     "execution_count": 10,
     "metadata": {},
     "output_type": "execute_result"
    }
   ],
   "source": [
    "pg.behavior.pool[0]"
   ]
  },
  {
   "cell_type": "markdown",
   "id": "42b25c07-ff25-4b10-b8a6-3bb8e9684565",
   "metadata": {
    "editable": true,
    "slideshow": {
     "slide_type": ""
    },
    "tags": []
   },
   "source": [
    "## Name Synthesizer\n",
    "\n",
    "Not very good. \n",
    "\n",
    "Options\n",
    "\n",
    "1. get first names from census data; get digraph frequency from last names.\n",
    "\n",
    "2. Use NLTK digraph frequencies to generate plausible English-like works."
   ]
  },
  {
   "cell_type": "code",
   "execution_count": 11,
   "id": "6dd3aaae-8543-4245-ba2a-33064d489024",
   "metadata": {
    "editable": true,
    "slideshow": {
     "slide_type": ""
    },
    "tags": []
   },
   "outputs": [],
   "source": [
    "class SynthesizeName(SynthesizeString):\n",
    "    domain = string.ascii_letters\n",
    "    min_default = 3\n",
    "    \n",
    "    def __call__(self, sequence: int | None = None) -> Any:\n",
    "        return super().__call__(sequence).title()\n",
    "\n",
    "    @classmethod\n",
    "    def match(cls, field: FieldInfo) -> bool:\n",
    "        return (\n",
    "            issubclass(field.annotation, str)\n",
    "            and field.json_schema_extra and field.json_schema_extra.get(\"domain\") == \"name\"\n",
    "        )\n"
   ]
  },
  {
   "cell_type": "code",
   "execution_count": 12,
   "id": "d844bf82-9ae8-42b0-9c26-e42d5f2fd34a",
   "metadata": {
    "editable": true,
    "slideshow": {
     "slide_type": ""
    },
    "tags": []
   },
   "outputs": [
    {
     "data": {
      "text/plain": [
       "['Ckbnjjtiiezbvavbatcdm',\n",
       " 'Dpuxzzscvtmyzccsnfl',\n",
       " 'Movedguauzstngqubtszm',\n",
       " 'Zgooedlwgukursklbbwbr',\n",
       " 'Yytvpsthmsllancauvihan',\n",
       " 'Gjsvhjiutwrsdcalnou',\n",
       " 'Iogmrzbafhweikoqoymefcjaaus',\n",
       " 'Xbbvwfakdjimbrhmktmunthqcgaokfq',\n",
       " 'Mkbbfejywjrjfophbhzmukkrcxdozbvdrfdr',\n",
       " 'Omfzkuipvh']"
      ]
     },
     "execution_count": 12,
     "metadata": {},
     "output_type": "execute_result"
    }
   ],
   "source": [
    "g2 = SynthesizeName(model, Employee.model_fields['name'])\n",
    "[next(g2) for _ in range(10)]"
   ]
  },
  {
   "cell_type": "markdown",
   "id": "8f68dfcc-02c4-4c7b-8d9f-7ef8a915deee",
   "metadata": {
    "editable": true,
    "slideshow": {
     "slide_type": ""
    },
    "tags": []
   },
   "source": [
    "## Number Synthesizers"
   ]
  },
  {
   "cell_type": "code",
   "execution_count": 13,
   "id": "0886e567-d0ca-4577-bb51-aae6efc67d86",
   "metadata": {
    "editable": true,
    "slideshow": {
     "slide_type": ""
    },
    "tags": []
   },
   "outputs": [],
   "source": [
    "from functools import partial\n",
    "\n",
    "class SynthesizeNumber(Synthesizer):\n",
    "    default_distribution = \"uniform\"\n",
    "    \n",
    "    def prepare(self) -> None:\n",
    "        self.min_value = self.get_meta(Ge, attrgetter(\"ge\"))\n",
    "        self.max_value = self.get_meta(Le, attrgetter(\"le\"))\n",
    "        if self.min_value is None:\n",
    "            self.min_value = 0\n",
    "        if self.max_value is None:\n",
    "            self.max_value = 2**32-1\n",
    "        self.dist_name = self.json_schema_extra.get(\"distribution\", self.default_distribution)\n",
    "\n",
    "class SynthesizeInteger(SynthesizeNumber):\n",
    "    def prepare(self) -> None:\n",
    "        super().prepare()\n",
    "        self.gen = {\n",
    "            \"uniform\": partial(random.randint, self.min_value, self.max_value), \n",
    "            \"normal\": partial(random.normalvariate, \n",
    "                              mu=(self.max_value + self.min_value)/2, \n",
    "                              sigma = (self.max_value - self.min_value)/6)\n",
    "        }[self.dist_name]\n",
    "    def __call__(self, sequence: int | None = None) -> Any:\n",
    "        v = int(self.gen())\n",
    "        while v < self.min_value or v > self.max_value:\n",
    "            v = int(self.gen())\n",
    "        return v\n",
    "\n",
    "    @classmethod\n",
    "    def match(cls, field: FieldInfo) -> bool:\n",
    "        return issubclass(field.annotation, int)\n",
    "\n",
    "class SynthesizeFloat(SynthesizeNumber):\n",
    "    def prepare(self) -> None:\n",
    "        super().prepare()\n",
    "        self.gen = {\n",
    "            \"uniform\": partial(random.randint, self.min_value, self.max_value), \n",
    "            \"normal\": partial(random.normalvariate, \n",
    "                              mu=(self.max_value + self.min_value)/2, \n",
    "                              sigma=(self.max_value - self.min_value)/6)\n",
    "        }[self.dist_name]\n",
    "    def __call__(self, sequence: int | None = None) -> Any:\n",
    "        v = float(self.gen())\n",
    "        while v < self.min_value or v > self.max_value:\n",
    "            v = float(self.gen())\n",
    "        return v\n",
    "\n",
    "    @classmethod\n",
    "    def match(cls, field: FieldInfo) -> bool:\n",
    "        return issubclass(field.annotation, float)\n",
    "\n"
   ]
  },
  {
   "cell_type": "code",
   "execution_count": 14,
   "id": "6ca023da-a39a-4f2c-ba8a-d38d008dbc54",
   "metadata": {
    "editable": true,
    "slideshow": {
     "slide_type": ""
    },
    "tags": []
   },
   "outputs": [],
   "source": [
    "g3 = SynthesizeInteger(model, Employee.model_fields['id'])"
   ]
  },
  {
   "cell_type": "code",
   "execution_count": 15,
   "id": "a28980ad-3ab8-4590-acb6-f53af85f88f2",
   "metadata": {
    "editable": true,
    "slideshow": {
     "slide_type": ""
    },
    "tags": []
   },
   "outputs": [
    {
     "data": {
      "text/plain": [
       "[1620130150,\n",
       " 470998807,\n",
       " 562439064,\n",
       " 400356711,\n",
       " 426271425,\n",
       " 2981324347,\n",
       " 3892751825,\n",
       " 612460124,\n",
       " 514934604,\n",
       " 910507644]"
      ]
     },
     "execution_count": 15,
     "metadata": {},
     "output_type": "execute_result"
    }
   ],
   "source": [
    "[next(g3) for _ in range(10)]"
   ]
  },
  {
   "cell_type": "code",
   "execution_count": 16,
   "id": "e3c14e7a-0419-4a89-b5fe-c358e2010725",
   "metadata": {
    "editable": true,
    "slideshow": {
     "slide_type": ""
    },
    "tags": []
   },
   "outputs": [],
   "source": [
    "g4 = SynthesizeFloat(model, Employee.model_fields['velocity'])"
   ]
  },
  {
   "cell_type": "code",
   "execution_count": 17,
   "id": "90fb734b-d7aa-428b-8a1a-54e03cd9774f",
   "metadata": {
    "editable": true,
    "slideshow": {
     "slide_type": ""
    },
    "tags": []
   },
   "outputs": [
    {
     "data": {
      "text/plain": [
       "[10.333933607379473,\n",
       " 10.920061248849933,\n",
       " 14.731619274213585,\n",
       " 14.332560156503941,\n",
       " 4.737780386229399,\n",
       " 5.328339687110079,\n",
       " 14.014912287900792,\n",
       " 18.46094923703935,\n",
       " 13.988209306867594,\n",
       " 10.27216839327092]"
      ]
     },
     "execution_count": 17,
     "metadata": {},
     "output_type": "execute_result"
    }
   ],
   "source": [
    "[next(g4) for _ in range(10)]"
   ]
  },
  {
   "cell_type": "markdown",
   "id": "b3bf737b-1a1c-477d-85dc-6b6907ba7341",
   "metadata": {},
   "source": [
    "Expect min 2, max 21, mean $\\tfrac{21 + 2}{2}$ = 11.5, stdev $\\tfrac{21+2}{6}$ = 3.83"
   ]
  },
  {
   "cell_type": "code",
   "execution_count": 18,
   "id": "f137be39-67ca-4546-80bf-4d3928eb3eaa",
   "metadata": {
    "editable": true,
    "slideshow": {
     "slide_type": ""
    },
    "tags": []
   },
   "outputs": [
    {
     "data": {
      "text/plain": [
       "'min(s)=4.16, max(s)=20.48, mean(s)=11.79, stdev(s)=3.330'"
      ]
     },
     "execution_count": 18,
     "metadata": {},
     "output_type": "execute_result"
    }
   ],
   "source": [
    "from statistics import mean, stdev\n",
    "s = [next(g4) for _ in range(200)]\n",
    "f\"{min(s)=:.2f}, {max(s)=:.2f}, {mean(s)=:.2f}, {stdev(s)=:.3f}\""
   ]
  },
  {
   "cell_type": "markdown",
   "id": "34bb10ab-5e15-4016-a1f8-ad12ea7a2c44",
   "metadata": {
    "editable": true,
    "slideshow": {
     "slide_type": ""
    },
    "tags": []
   },
   "source": [
    "## Date Synthesizer"
   ]
  },
  {
   "cell_type": "code",
   "execution_count": 19,
   "id": "3fa07d38-a603-4405-ab20-71d4165c05d1",
   "metadata": {
    "editable": true,
    "slideshow": {
     "slide_type": ""
    },
    "tags": []
   },
   "outputs": [],
   "source": [
    "class SynthesizeDate(SynthesizeNumber):\n",
    "    def prepare(self) -> None:\n",
    "        super().prepare()\n",
    "        self.min_value = self.get_meta(Ge, attrgetter(\"ge\"))\n",
    "        self.max_value = self.get_meta(Le, attrgetter(\"le\"))\n",
    "        if self.min_value is None:\n",
    "            self.min_value = datetime.datetime(1970,1,1)\n",
    "        if self.max_value is None:\n",
    "            self.max_value = datetime.datetime(2099,12,31)\n",
    "        self.dist_name = self.json_schema_extra.get(\"distribution\", self.default_distribution)\n",
    "\n",
    "        self.min_date = self.min_value.timestamp()\n",
    "        self.max_date = self.max_value.timestamp()\n",
    "        self.gen = {\n",
    "            \"uniform\": lambda : random.random() * (self.max_date - self.min_date) + self.min_date, \n",
    "            \"normal\": partial(random.normalvariate, mu=(self.max_date + self.min_date)/2, sigma = (self.max_date - self.min_date)/6)\n",
    "        }[self.dist_name]\n",
    "        \n",
    "    def __call__(self, sequence: int | None = None) -> Any:\n",
    "        dt = self.gen()\n",
    "        return datetime.datetime.fromtimestamp(dt)\n",
    "        \n",
    "    @classmethod\n",
    "    def match(cls, field: FieldInfo) -> bool:\n",
    "        return issubclass(field.annotation, datetime.datetime)\n"
   ]
  },
  {
   "cell_type": "code",
   "execution_count": 20,
   "id": "6cacd2b8-3095-4e18-865a-534f476b6fb2",
   "metadata": {
    "editable": true,
    "slideshow": {
     "slide_type": ""
    },
    "tags": []
   },
   "outputs": [],
   "source": [
    "g5 = SynthesizeDate(model, Employee.model_fields['hire_date'])"
   ]
  },
  {
   "cell_type": "code",
   "execution_count": 21,
   "id": "ce74bf14-35bc-466e-bb9d-7b646337fe07",
   "metadata": {
    "editable": true,
    "slideshow": {
     "slide_type": ""
    },
    "tags": []
   },
   "outputs": [
    {
     "data": {
      "text/plain": [
       "datetime.datetime(2034, 11, 28, 6, 32, 24, 458422)"
      ]
     },
     "execution_count": 21,
     "metadata": {},
     "output_type": "execute_result"
    }
   ],
   "source": [
    "next(g5)"
   ]
  },
  {
   "cell_type": "markdown",
   "id": "92c6f2c8-1e5f-4ab0-aaac-55ebe0ceb8b8",
   "metadata": {
    "editable": true,
    "slideshow": {
     "slide_type": ""
    },
    "tags": []
   },
   "source": [
    "## Reference Synthesizer \n",
    "\n",
    "Gets values from another Pooled Synthesizer.\n",
    "\n",
    "Requies `json_schema_extra={\"sql\": {\"key\": \"foreign\", \"reference\": \"model.field\"}}`\n",
    "\n",
    "The `source` attribute is stateful -- It's set to a specific `Synthesizer` instance.\n",
    "\n",
    "The update is done as part of preparing a Model iterator -- as late as possible.\n",
    "\n",
    "The pool of values are generated when a Pooled Synthesizer is built."
   ]
  },
  {
   "cell_type": "code",
   "execution_count": 22,
   "id": "3e48d072-3547-47f6-bf3e-d399ca197511",
   "metadata": {
    "editable": true,
    "slideshow": {
     "slide_type": ""
    },
    "tags": []
   },
   "outputs": [],
   "source": [
    "class SynthesizeReference(Synthesizer):\n",
    "    \n",
    "    def __init__(self, model: \"ModelSynthesizer\", field: FieldInfo, behavior: type[Behavior] = Independent) -> None:\n",
    "        super().__init__(model, field, behavior)\n",
    "        # \"sql\": {'key': \"foreign\", \"reference\": \"Manager.id\"}\n",
    "        self.model_ref, self.field_ref = self.json_schema_extra[\"sql\"][\"reference\"].split(\".\")\n",
    "        self.source: Synthesizer | None = None\n",
    "        \n",
    "    def __call__(self, sequence: int | None = None) -> Any:\n",
    "        \"\"\"Generate a value.\"\"\"\n",
    "        try:\n",
    "            return next(self.source)\n",
    "        except TypeError as ex:\n",
    "            # Usually, it's because the source is not resolved or not a pool.\n",
    "            raise ValueError(f\"source {self.model_ref}.{self.field_ref} not resolved\")"
   ]
  },
  {
   "cell_type": "markdown",
   "id": "65341b62-1f20-4348-a84b-aa3cb5c98756",
   "metadata": {
    "editable": true,
    "slideshow": {
     "slide_type": ""
    },
    "tags": []
   },
   "source": [
    "# Model Synthesizer\n",
    "\n",
    "A Model is a collection of atomic fields.\n",
    "\n",
    "The point of a `ModelSynthesizer` is to produce values for a Pydantic `BaseModel` class."
   ]
  },
  {
   "cell_type": "code",
   "execution_count": 23,
   "id": "5b2514f8-3945-43f8-be66-2052fde6b507",
   "metadata": {
    "editable": true,
    "slideshow": {
     "slide_type": ""
    },
    "tags": []
   },
   "outputs": [],
   "source": [
    "def synth_class_iter(base: type[Synthesizer] = Synthesizer) -> Iterator[tuple[str, type]]:\n",
    "    \"\"\"\n",
    "    Find all Synthesizers.\n",
    "\n",
    "    Tends to be top-down from most general to most specific.\n",
    "    It's more useful reversed, though, starting from most specific.\n",
    "    \"\"\"\n",
    "    yield base.__name__, base\n",
    "    for c in base.__subclasses__():\n",
    "        yield from synth_class_iter(c)"
   ]
  },
  {
   "cell_type": "code",
   "execution_count": 32,
   "id": "96c97e9a-c6c6-4bec-9bd0-37c1e3a608e1",
   "metadata": {
    "editable": true,
    "slideshow": {
     "slide_type": ""
    },
    "tags": []
   },
   "outputs": [],
   "source": [
    "class ModelIter:\n",
    "    def __init__(self, model: \"ModelSynthesizer\") -> None:\n",
    "        self.model = model\n",
    "        self.synth_iter = {\n",
    "            name: iter(synth) \n",
    "            for name, synth in self.model.fields.items()\n",
    "        }\n",
    "\n",
    "    def __repr__(self) -> str:\n",
    "        return f\"ModelIter({self.model})\"\n",
    "\n",
    "    def __iter__(self) -> Iterator[BaseModel]:\n",
    "        return self\n",
    "        \n",
    "    def __next__(self) -> BaseModel:\n",
    "        data = {\n",
    "            name: next(g)\n",
    "            for name, g in self.synth_iter.items()\n",
    "        }\n",
    "        try:\n",
    "            return self.model.model_class(**data)\n",
    "        except Exception:\n",
    "            print(\"VALIDATION ERROR\")\n",
    "            print(data)\n",
    "            raise\n",
    "        \n",
    "class ModelSynthesizer:\n",
    "    def __init__(self, cls_: type[BaseModel], rows: int | None = None) -> None:\n",
    "        self.model_class = cls_\n",
    "        self.rows = rows \n",
    "        # Reversed to put subclasses first.\n",
    "        self._synth_name_map = dict(reversed(list(synth_class_iter())))\n",
    "\n",
    "        self.fields = {\n",
    "            name: self._make_field_synth(field)\n",
    "            for name, field in self.model_class.model_fields.items()\n",
    "        }\n",
    "\n",
    "    def __repr__(self) -> str:\n",
    "        return f\"ModelSynthesizer({self.model_class}, rows={self.rows})\"\n",
    "        \n",
    "    @property\n",
    "    def references(self) -> list[str]:\n",
    "        \"\"\"List of field names contain references elsewhere in a schema.\"\"\"\n",
    "        refs = [name for name, field in self.fields.items() if field.has_reference]\n",
    "        return refs\n",
    "        \n",
    "    def _make_field_synth(self, field: FieldInfo) -> Synthesizer:\n",
    "        json_schema_extra = field.json_schema_extra or {}\n",
    "\n",
    "        # Rule 0 -- PK's are pooled, FK's are references to PK pools.\n",
    "        behavior: Behavior\n",
    "        if \"sql\" in json_schema_extra:\n",
    "            key = json_schema_extra[\"sql\"].get(\"key\", \"primary\")\n",
    "            if key == \"primary\":\n",
    "                # \"sql\": {\"key\": \"primary\"} -- Pooled -- based on type.\n",
    "                behavior = Pooled\n",
    "            elif key == \"foreign\":\n",
    "                # \"sql\": {'key': \"foreign\", \"reference\": \"Manager.id\"} -- Independent instance of ``SynthesizeReference``.\n",
    "                # Type comes from the referenced source.\n",
    "                return SynthesizeReference(self, field, Independent)\n",
    "            else:\n",
    "                # TODO: Raise ValueError? Warning?\n",
    "                behavior = Pooled\n",
    "        else:\n",
    "            behavior = Independent\n",
    "\n",
    "        synth_class: type[Synthesizer] | None = None\n",
    "        \n",
    "        # Rule 1 -- json_schema_extra names a synthesizer class to use.\n",
    "        if \"synthesizer\" in json_schema_extra:\n",
    "            # Map synthesizer name to implementation classes.\n",
    "            synth_class = self._synth_name_map[json_schema_extra[\"synthesizer\"]]\n",
    "            return synth_class(self, field, behavior)\n",
    "                        \n",
    "        # Rule 2 -- deduce synthesizer from annotation class and json_schema_extra.\n",
    "        # Works best if list has subclasses first, superclasses last.\n",
    "        for name in self._synth_name_map.keys():\n",
    "            cls_ = self._synth_name_map[name]\n",
    "            if cls_.match(field):\n",
    "                synth_class = cls_\n",
    "                break\n",
    "        if synth_class is None:\n",
    "            raise ValueError(f\"no synth class matches {field=}\")\n",
    "        return synth_class(self, field, behavior)\n",
    "\n",
    "    def __iter__(self) -> Iterator[BaseModel]:\n",
    "        return ModelIter(self)"
   ]
  },
  {
   "cell_type": "markdown",
   "id": "5010cf74-1bd9-4841-acc4-381e8be6db2e",
   "metadata": {
    "editable": true,
    "slideshow": {
     "slide_type": ""
    },
    "tags": []
   },
   "source": [
    "Our example has inter-model references. It can't work."
   ]
  },
  {
   "cell_type": "code",
   "execution_count": 33,
   "id": "db074dc5-b149-4382-a3fe-3b6b47766a2e",
   "metadata": {
    "editable": true,
    "slideshow": {
     "slide_type": ""
    },
    "tags": [
     "raises-exception"
    ]
   },
   "outputs": [
    {
     "ename": "ValueError",
     "evalue": "source Manager.id not resolved",
     "output_type": "error",
     "traceback": [
      "\u001b[0;31m---------------------------------------------------------------------------\u001b[0m",
      "\u001b[0;31mTypeError\u001b[0m                                 Traceback (most recent call last)",
      "Cell \u001b[0;32mIn[22], line 12\u001b[0m, in \u001b[0;36mSynthesizeReference.__call__\u001b[0;34m(self, sequence)\u001b[0m\n\u001b[1;32m     11\u001b[0m \u001b[38;5;28;01mtry\u001b[39;00m:\n\u001b[0;32m---> 12\u001b[0m     \u001b[38;5;28;01mreturn\u001b[39;00m \u001b[38;5;28mnext\u001b[39m(\u001b[38;5;28mself\u001b[39m\u001b[38;5;241m.\u001b[39msource)\n\u001b[1;32m     13\u001b[0m \u001b[38;5;28;01mexcept\u001b[39;00m \u001b[38;5;167;01mTypeError\u001b[39;00m \u001b[38;5;28;01mas\u001b[39;00m ex:\n\u001b[1;32m     14\u001b[0m     \u001b[38;5;66;03m# Usually, it's because the source is not resolved or not a pool.\u001b[39;00m\n",
      "\u001b[0;31mTypeError\u001b[0m: 'NoneType' object is not an iterator",
      "\nDuring handling of the above exception, another exception occurred:\n",
      "\u001b[0;31mValueError\u001b[0m                                Traceback (most recent call last)",
      "Cell \u001b[0;32mIn[33], line 4\u001b[0m\n\u001b[1;32m      2\u001b[0m emp_synth_iter \u001b[38;5;241m=\u001b[39m \u001b[38;5;28miter\u001b[39m(emp_synth)\n\u001b[1;32m      3\u001b[0m \u001b[38;5;28;01mfor\u001b[39;00m _ \u001b[38;5;129;01min\u001b[39;00m \u001b[38;5;28mrange\u001b[39m(\u001b[38;5;241m10\u001b[39m):\n\u001b[0;32m----> 4\u001b[0m     \u001b[38;5;28mprint\u001b[39m(\u001b[38;5;28mnext\u001b[39m(emp_synth_iter))\n",
      "Cell \u001b[0;32mIn[32], line 17\u001b[0m, in \u001b[0;36mModelIter.__next__\u001b[0;34m(self)\u001b[0m\n\u001b[1;32m     15\u001b[0m \u001b[38;5;28;01mdef\u001b[39;00m \u001b[38;5;21m__next__\u001b[39m(\u001b[38;5;28mself\u001b[39m) \u001b[38;5;241m-\u001b[39m\u001b[38;5;241m>\u001b[39m BaseModel:\n\u001b[1;32m     16\u001b[0m     data \u001b[38;5;241m=\u001b[39m {\n\u001b[0;32m---> 17\u001b[0m         name: \u001b[38;5;28mnext\u001b[39m(g)\n\u001b[1;32m     18\u001b[0m         \u001b[38;5;28;01mfor\u001b[39;00m name, g \u001b[38;5;129;01min\u001b[39;00m \u001b[38;5;28mself\u001b[39m\u001b[38;5;241m.\u001b[39msynth_iter\u001b[38;5;241m.\u001b[39mitems()\n\u001b[1;32m     19\u001b[0m     }\n\u001b[1;32m     20\u001b[0m     \u001b[38;5;28;01mtry\u001b[39;00m:\n\u001b[1;32m     21\u001b[0m         \u001b[38;5;28;01mreturn\u001b[39;00m \u001b[38;5;28mself\u001b[39m\u001b[38;5;241m.\u001b[39mmodel\u001b[38;5;241m.\u001b[39mmodel_class(\u001b[38;5;241m*\u001b[39m\u001b[38;5;241m*\u001b[39mdata)\n",
      "Cell \u001b[0;32mIn[3], line 24\u001b[0m, in \u001b[0;36mSynthesizer.__next__\u001b[0;34m(self)\u001b[0m\n\u001b[1;32m     23\u001b[0m \u001b[38;5;28;01mdef\u001b[39;00m \u001b[38;5;21m__next__\u001b[39m(\u001b[38;5;28mself\u001b[39m) \u001b[38;5;241m-\u001b[39m\u001b[38;5;241m>\u001b[39m Any:\n\u001b[0;32m---> 24\u001b[0m     \u001b[38;5;28;01mreturn\u001b[39;00m \u001b[38;5;28mself\u001b[39m\u001b[38;5;241m.\u001b[39mbehavior\u001b[38;5;241m.\u001b[39mnext()\n",
      "Cell \u001b[0;32mIn[2], line 31\u001b[0m, in \u001b[0;36mIndependent.next\u001b[0;34m(self)\u001b[0m\n\u001b[1;32m     30\u001b[0m \u001b[38;5;28;01mdef\u001b[39;00m \u001b[38;5;21mnext\u001b[39m(\u001b[38;5;28mself\u001b[39m) \u001b[38;5;241m-\u001b[39m\u001b[38;5;241m>\u001b[39m Any:\n\u001b[0;32m---> 31\u001b[0m     v \u001b[38;5;241m=\u001b[39m \u001b[38;5;28mself\u001b[39m\u001b[38;5;241m.\u001b[39msynth(\u001b[38;5;28mself\u001b[39m\u001b[38;5;241m.\u001b[39mcount)\n\u001b[1;32m     32\u001b[0m     \u001b[38;5;28mself\u001b[39m\u001b[38;5;241m.\u001b[39mcount \u001b[38;5;241m+\u001b[39m\u001b[38;5;241m=\u001b[39m \u001b[38;5;241m1\u001b[39m\n\u001b[1;32m     33\u001b[0m     \u001b[38;5;28;01mreturn\u001b[39;00m v\n",
      "Cell \u001b[0;32mIn[22], line 15\u001b[0m, in \u001b[0;36mSynthesizeReference.__call__\u001b[0;34m(self, sequence)\u001b[0m\n\u001b[1;32m     12\u001b[0m     \u001b[38;5;28;01mreturn\u001b[39;00m \u001b[38;5;28mnext\u001b[39m(\u001b[38;5;28mself\u001b[39m\u001b[38;5;241m.\u001b[39msource)\n\u001b[1;32m     13\u001b[0m \u001b[38;5;28;01mexcept\u001b[39;00m \u001b[38;5;167;01mTypeError\u001b[39;00m \u001b[38;5;28;01mas\u001b[39;00m ex:\n\u001b[1;32m     14\u001b[0m     \u001b[38;5;66;03m# Usually, it's because the source is not resolved or not a pool.\u001b[39;00m\n\u001b[0;32m---> 15\u001b[0m     \u001b[38;5;28;01mraise\u001b[39;00m \u001b[38;5;167;01mValueError\u001b[39;00m(\u001b[38;5;124mf\u001b[39m\u001b[38;5;124m\"\u001b[39m\u001b[38;5;124msource \u001b[39m\u001b[38;5;132;01m{\u001b[39;00m\u001b[38;5;28mself\u001b[39m\u001b[38;5;241m.\u001b[39mmodel_ref\u001b[38;5;132;01m}\u001b[39;00m\u001b[38;5;124m.\u001b[39m\u001b[38;5;132;01m{\u001b[39;00m\u001b[38;5;28mself\u001b[39m\u001b[38;5;241m.\u001b[39mfield_ref\u001b[38;5;132;01m}\u001b[39;00m\u001b[38;5;124m not resolved\u001b[39m\u001b[38;5;124m\"\u001b[39m)\n",
      "\u001b[0;31mValueError\u001b[0m: source Manager.id not resolved"
     ]
    }
   ],
   "source": [
    "emp_synth = ModelSynthesizer(Employee, 100)\n",
    "emp_synth_iter = iter(emp_synth)\n",
    "for _ in range(10):\n",
    "    print(next(emp_synth_iter))"
   ]
  },
  {
   "cell_type": "markdown",
   "id": "7762a984-be9c-4b34-a4ea-5660b6a3c022",
   "metadata": {
    "editable": true,
    "slideshow": {
     "slide_type": ""
    },
    "tags": []
   },
   "source": [
    "# Schema Synthesizer\n",
    "\n",
    "A Schema is a collection of Models.\n",
    "\n",
    "This is how we handle Foreign Key references to another model's Primary Key.\n",
    "\n",
    "The PK is a `Synthesizer` with `Pooled` behavior.\n",
    "\n",
    "The FK is a `SynthesizeReference` that extracts values from the pool.\n",
    "\n",
    "The `prepare()` process resolves references. "
   ]
  },
  {
   "cell_type": "code",
   "execution_count": 34,
   "id": "4838f358-7f03-47f0-9324-776d2b09e632",
   "metadata": {
    "editable": true,
    "slideshow": {
     "slide_type": ""
    },
    "tags": []
   },
   "outputs": [],
   "source": [
    "class SchemaSynthesizer:\n",
    "    def __init__(self) -> None:\n",
    "        self.schema = {}\n",
    "        self.references = []\n",
    "\n",
    "    def add(self, model_class: type[BaseModel], rows: int | None = None) -> None:\n",
    "        model = ModelSynthesizer(model_class, rows)\n",
    "        self.schema[model_class.__name__] = model\n",
    "        references = [\n",
    "            (model, field, field.model_ref, field.field_ref)\n",
    "            for field in model.fields.values()\n",
    "            if field.model_ref and field.field_ref\n",
    "        ]\n",
    "        self.references.extend(references)\n",
    "\n",
    "    def prepare(self) -> None:\n",
    "        while self.references:\n",
    "            model, field, model_ref, field_ref = self.references.pop()\n",
    "            # DEBUG: print(f\"Resolving Reference: {model} {field} refers to {model_ref}.{field_ref}\")\n",
    "            try:\n",
    "                target = self.schema[model_ref].fields[field_ref]\n",
    "            except KeyError:\n",
    "                print(f\"{model_ref} not in {self.schema.keys()}\")\n",
    "                raise KeyError(f\"can't resolve {model} {field} ref to {model_ref}.{field_ref}\")\n",
    "            field.source = target\n",
    "            # Not needed here because it's handled when the Pooled Synthesizer is created\n",
    "            # Alternative is to defer to here:  target.behavior.fill()\n",
    "\n",
    "    def rows(self, model_class: type[BaseModel]) -> Iterator[BaseModel]:\n",
    "        self.prepare()\n",
    "        model = self.schema[model_class.__name__]\n",
    "        return iter(model)"
   ]
  },
  {
   "cell_type": "code",
   "execution_count": 35,
   "id": "270a0683-edef-4d01-a2c0-52204b88b044",
   "metadata": {
    "editable": true,
    "slideshow": {
     "slide_type": ""
    },
    "tags": []
   },
   "outputs": [
    {
     "name": "stdout",
     "output_type": "stream",
     "text": [
      "ModelSynthesizer(<class '__main__.Employee'>, rows=10)\n",
      "  id: SynthesizeInteger(ModelSynthesizer(<class '__main__.Employee'>, rows=10), annotation=int required=True json_schema_extra={'sql': {'key': 'primary'}}, Pooled)\n",
      "  name: SynthesizeString(ModelSynthesizer(<class '__main__.Employee'>, rows=10), annotation=str required=True metadata=[MaxLen(max_length=40)], Independent)\n",
      "  hire_date: SynthesizeDate(ModelSynthesizer(<class '__main__.Employee'>, rows=10), annotation=datetime required=True metadata=[Ge(ge=datetime.datetime(2021, 1, 18, 0, 0))], Independent)\n",
      "  velocity: SynthesizeFloat(ModelSynthesizer(<class '__main__.Employee'>, rows=10), annotation=float required=True json_schema_extra={'distribution': 'normal'} metadata=[Ge(ge=2), Le(le=21)], Independent)\n",
      "  manager: SynthesizeReference(ModelSynthesizer(<class '__main__.Employee'>, rows=10), annotation=int required=True json_schema_extra={'sql': {'key': 'foreign', 'reference': 'Manager.id'}}, Independent)\n"
     ]
    }
   ],
   "source": [
    "s = SchemaSynthesizer()\n",
    "s.add(Employee, 10)\n",
    "s.add(Manager, 2)\n",
    "\n",
    "print(s.schema['Employee'])\n",
    "for name, f in s.schema['Employee'].fields.items():\n",
    "    print(f\"  {name}: {f}\")"
   ]
  },
  {
   "cell_type": "code",
   "execution_count": 36,
   "id": "04637bd2-deb3-4fa2-984c-cb5e9a624a6b",
   "metadata": {
    "editable": true,
    "slideshow": {
     "slide_type": ""
    },
    "tags": []
   },
   "outputs": [
    {
     "name": "stdout",
     "output_type": "stream",
     "text": [
      "id=1830925711 name=\"Ew\\\\#!yPlKg=KM`]j_'y;\\\\\" hire_date=datetime.datetime(2067, 12, 26, 22, 17, 32, 717739) velocity=12.643047311951968 manager=2657133193\n",
      "id=3042616909 name='THVafJDTtyo?\":Wu=y]P' hire_date=datetime.datetime(2093, 8, 9, 14, 4, 58, 483257) velocity=15.138835992381933 manager=2657133193\n",
      "id=1220375740 name=\"Yh_'o$wMR#`}eBu*Jg*rowD'B_I+Lz(C\" hire_date=datetime.datetime(2043, 12, 2, 4, 2, 18, 743324) velocity=8.228239779243467 manager=3836089139\n",
      "id=170845071 name='PXZfmUy\\\\\"`;v;' hire_date=datetime.datetime(2088, 9, 28, 12, 14, 4, 442257) velocity=8.386546313449461 manager=2657133193\n",
      "id=2734751330 name='-(' hire_date=datetime.datetime(2062, 4, 21, 17, 28, 53, 322033) velocity=8.526964708078806 manager=3836089139\n",
      "id=2057004573 name='gYjnpM+?+)]}V<EQ<!\"`e' hire_date=datetime.datetime(2095, 10, 24, 8, 54, 55, 258200) velocity=14.546317658884723 manager=3836089139\n",
      "id=4105659792 name='|TXPvba^mg+Yx-)ILjiK%!J;@C_W' hire_date=datetime.datetime(2075, 1, 10, 19, 10, 34, 547362) velocity=10.00286845639161 manager=2657133193\n",
      "id=3285262661 name=\"Ozi~ACEVb!i@Re~#LbKjYla*);'+X@\" hire_date=datetime.datetime(2038, 11, 12, 21, 59, 41, 442073) velocity=11.966749342732534 manager=3836089139\n",
      "id=2054336087 name='Yv_gll.wi!%p:V%w|mfpwrnSoA%%R.n+pE;k' hire_date=datetime.datetime(2070, 7, 10, 15, 48, 11, 567657) velocity=16.75815000413133 manager=2657133193\n",
      "id=4136022130 name='+;{q`%/[w' hire_date=datetime.datetime(2021, 10, 19, 8, 14, 57, 574306) velocity=13.998976460717653 manager=3836089139\n"
     ]
    }
   ],
   "source": [
    "for e in s.rows(Employee):\n",
    "    print(e)"
   ]
  },
  {
   "cell_type": "code",
   "execution_count": 37,
   "id": "1aec831d-7bcf-49dc-8d48-f20b2e8a24c6",
   "metadata": {
    "editable": true,
    "slideshow": {
     "slide_type": ""
    },
    "tags": []
   },
   "outputs": [
    {
     "name": "stdout",
     "output_type": "stream",
     "text": [
      "id=2657133193 employee_id=3042616909 department_id='zsV(|'\n",
      "id=3836089139 employee_id=170845071 department_id='R?V`'\n"
     ]
    }
   ],
   "source": [
    "for m in s.rows(Manager):\n",
    "    print(m)"
   ]
  },
  {
   "cell_type": "code",
   "execution_count": null,
   "id": "ca4a8be2-5d48-4a41-89c1-3079fd9e22de",
   "metadata": {
    "editable": true,
    "slideshow": {
     "slide_type": ""
    },
    "tags": []
   },
   "outputs": [],
   "source": []
  }
 ],
 "metadata": {
  "kernelspec": {
   "display_name": "Python 3 (ipykernel)",
   "language": "python",
   "name": "python3"
  },
  "language_info": {
   "codemirror_mode": {
    "name": "ipython",
    "version": 3
   },
   "file_extension": ".py",
   "mimetype": "text/x-python",
   "name": "python",
   "nbconvert_exporter": "python",
   "pygments_lexer": "ipython3",
   "version": "3.12.4"
  }
 },
 "nbformat": 4,
 "nbformat_minor": 5
}
